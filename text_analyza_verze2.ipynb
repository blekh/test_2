{
  "nbformat": 4,
  "nbformat_minor": 0,
  "metadata": {
    "colab": {
      "name": "Untitled13.ipynb",
      "provenance": [],
      "authorship_tag": "ABX9TyPCg1kfaVHqu/K5MLXtXK3Q",
      "include_colab_link": true
    },
    "kernelspec": {
      "name": "python3",
      "display_name": "Python 3"
    },
    "language_info": {
      "name": "python"
    }
  },
  "cells": [
    {
      "cell_type": "markdown",
      "metadata": {
        "id": "view-in-github",
        "colab_type": "text"
      },
      "source": [
        "<a href=\"https://colab.research.google.com/github/blekh/test_2/blob/main/text_analyza_verze2.ipynb\" target=\"_parent\"><img src=\"https://colab.research.google.com/assets/colab-badge.svg\" alt=\"Open In Colab\"/></a>"
      ]
    },
    {
      "cell_type": "code",
      "metadata": {
        "id": "9KiibXHbOpWM"
      },
      "source": [
        "#jmeno a heslo od uzivatele \n",
        "username = input('Zadej své uživatelské jméno: ')\n",
        "heslo = input('Zadej své heslo: ')\n",
        "#seznam uzivatelu\n",
        "uzivatele = [(\"bob\",\"123\"),(\"ann\",\"pass123\"),(\"mike\",\"password123\"), (\"liz\", \"pass123\")]\n",
        "#kontola uzivatele \n",
        "if username == uzivatele[0][0] and heslo == uzivatele[0][1]:\n",
        "    print(\"ahoj,\",username.capitalize() +\"e\") \n",
        "elif username == uzivatele[1][0] and heslo == uzivatele[1][1]:\n",
        "    print(\"ahoj,\", username.capitalize() + \"o\")\n",
        "elif username == uzivatele[2][0] and heslo == uzivatele[2][1]:\n",
        "    print(\"ahoj,\", username.capitalize() + \"u\")\n",
        "elif username == uzivatele[3][0] and heslo == uzivatele[3][1]:\n",
        "    print(\"ahoj,\", username.capitalize() + \"o\")\n",
        "else:\n",
        "    print(\"Špatné uživatelské jméno nebo heslo, zkus to znovu!\")\n",
        "    exit()\n",
        "#text\n",
        "TEXTS = ['''\n",
        "Situated about 10 miles west of Kemmerer, \n",
        "Fossil Butte is a ruggedly impressive \n",
        "topographic feature that rises sharply \n",
        "some 1000 feet above Twin Creek Valley \n",
        "to an elevation of more than 7500 feet \n",
        "above sea level. The butte is located just \n",
        "north of US 30N and the Union Pacific Railroad, \n",
        "which traverse the valley. ''',\n",
        "\n",
        "'''At the base of Fossil Butte are the bright \n",
        "red, purple, yellow and gray beds of the Wasatch \n",
        "Formation. Eroded portions of these horizontal \n",
        "beds slope gradually upward from the valley floor \n",
        "and steepen abruptly. Overlying them and extending \n",
        "to the top of the butte are the much steeper \n",
        "buff-to-white beds of the Green River Formation, \n",
        "which are about 300 feet thick.''',\n",
        "\n",
        "'''The monument contains 8198 acres and protects \n",
        "a portion of the largest deposit of freshwater fish \n",
        "fossils in the world. The richest fossil fish deposits \n",
        "are found in multiple limestone layers, which lie some \n",
        "100 feet below the top of the butte. The fossils \n",
        "represent several varieties of perch, as well as \n",
        "other freshwater genera and herring similar to those \n",
        "in modern oceans. Other fish such as paddlefish, \n",
        "garpike and stingray are also present.''']\n",
        "#pořadi textu\n",
        "TEXT = [(\"1\",TEXTS[0]), (\"2\", TEXTS[1]), (\"3\", TEXTS[2])]\n",
        "#vyber textu \n",
        "cislo_textu = input(\"vyber si čislo od 1 do 3: \")\n",
        "\n",
        "#přrirazeni vybraneho cisla k textu\n",
        "if cislo_textu == TEXT[0][0]:\n",
        "     print(\"Vybral sis text:\\n\", TEXTS[0])\n",
        "elif  cislo_textu == TEXT[1][0]:\n",
        "      print(\"Vybral sis text:\\n\", TEXTS[1])\n",
        "elif cislo_textu == TEXT[2][0]:\n",
        "      print(\"Vybral sis text:\\n\", TEXTS[2])\n",
        "elif cislo_textu.isalpha():\n",
        "     print(\"Zadal si text, musíš zadat číslo\")  \n",
        "     exit()\n",
        "else:\n",
        "    print(\"Číslo neni v textu, vyber si jiné číslo\")\n",
        "    exit()\n",
        "\n",
        " \n",
        "#celkovy pocet slov\n",
        "pocet_slov = str(TEXTS[int(cislo_textu)-1]).split(\" \")\n",
        "print(\"Počet slov ve vybraném textu: \", len(pocet_slov))\n",
        "\n",
        "#pocet slov zacinajicich velkým pismenem \n",
        "print(\"Počet slov začínajících velkým písmenem: \", sum(1 for word in pocet_slov if word.istitle()))\n",
        "\n",
        "#pocet slov zacinajicich malym pismenem \n",
        "print(\"Počet slov psaných malými písmeny: \", sum(1 for word in pocet_slov if word.islower()))\n",
        "\n",
        "#pocet slov psanych pouze velkými pismeny\n",
        "print(\"Počet slov psaných velkými písmeny: \", sum(1 for word in pocet_slov if word.isupper() and word.isalpha()))\n",
        "\n",
        "#pocet čisel v textu\n",
        "print(\"Počet čísel: \", sum(1 for word in pocet_slov if word.isnumeric()))\n",
        "\n",
        "#soucet cisel v textu \n",
        "soucet = 0\n",
        "for word in pocet_slov:\n",
        "    if word.isdigit():\n",
        "      soucet += int(word)\n",
        "print(\"Součet všech čísel v textu je: \", soucet)\n",
        "\n",
        "\n",
        "# cista slova\n",
        "\n",
        "cista_slova = []\n",
        "for word in pocet_slov:\n",
        "  if len(word)>=1:\n",
        "    cista_slova.append(word.strip(\",.()-/*+?:'!\\n\"))\n",
        "\n",
        "slovnik_klicu_a_hodnot={}\n",
        "for word in cista_slova:\n",
        "    slovnik_klicu_a_hodnot.setdefault(len(word), []).append(word)\n",
        "\n",
        "klice = []\n",
        "for klic in slovnik_klicu_a_hodnot.keys():\n",
        "  klice.append(klic)\n",
        "\n",
        "\n",
        "list_hodnot = []\n",
        "for hodnot in slovnik_klicu_a_hodnot.values():\n",
        "  list_hodnot.append(len(hodnot))\n",
        "\n",
        "\n",
        "cisla= []\n",
        "for cislo in list_hodnot:\n",
        "  cisla.append(cislo)\n",
        "  \n",
        "print(\"-\"*30)\n",
        "print(\"Len: \", \"\\tOccurancy\", \"\\tNum.\")\n",
        "for klic,cislo in enumerate(cisla,1):\n",
        "  print( \"\\t\", cislo*\"*\", \"\\t\",\"\\t\" ,cislo)\n"
      ],
      "execution_count": null,
      "outputs": []
    },
    {
      "cell_type": "code",
      "metadata": {
        "colab": {
          "base_uri": "https://localhost:8080/"
        },
        "id": "3fyu6bJ0PosY",
        "outputId": "ce841ec1-d9c4-4850-bc73-4ad648b448f1"
      },
      "source": [
        "list(range(len(nejcastejsi),0,-1))[:1]"
      ],
      "execution_count": 79,
      "outputs": [
        {
          "output_type": "execute_result",
          "data": {
            "text/plain": [
              "[11]"
            ]
          },
          "metadata": {},
          "execution_count": 79
        }
      ]
    },
    {
      "cell_type": "code",
      "metadata": {
        "colab": {
          "base_uri": "https://localhost:8080/"
        },
        "id": "0LxKGsZrWTeP",
        "outputId": "8370fb0b-d263-4141-857e-71bc94881593"
      },
      "source": [
        "# cista slova\n",
        "cista_slova = []\n",
        "for word in pocet_slov:\n",
        "  if word.isalnum() == True:\n",
        "    cista_slova.append(word.strip(\",.()+-/*\\n \"))\n",
        "\n",
        "# vyskyt delky slov v textu\n",
        "vyskyt_slov = {}\n",
        "for word in cista_slova:\n",
        "    vyskyt_slov[word] = len(word)\n",
        "# serazena slova\n",
        "serazene = sorted(vyskyt_slov, key=len, reverse=True)\n",
        "print(serazene)\n"
      ],
      "execution_count": 123,
      "outputs": [
        {
          "output_type": "stream",
          "name": "stdout",
          "text": [
            "['freshwater', 'limestone', 'varieties', 'monument', 'contains', 'protects', 'deposits', 'multiple', 'stingray', 'portion', 'largest', 'deposit', 'richest', 'fossils', 'several', 'herring', 'similar', 'fossil', 'genera', 'modern', 'acres', 'found', 'which', 'below', 'those', 'Other', '8198', 'fish', 'some', 'feet', 'well', 'such', 'also', 'The', 'and', 'the', 'lie', 'top', 'are', 'of', 'in', 'as', 'to']\n"
          ]
        }
      ]
    },
    {
      "cell_type": "code",
      "metadata": {
        "colab": {
          "base_uri": "https://localhost:8080/"
        },
        "id": "AFAP5hzk2o_l",
        "outputId": "ad90634b-4b5d-4964-86df-6f4c02e6aa40"
      },
      "source": [
        "\n",
        "slovnik_klicu_a_hodnot={}\n",
        "for word in cista_slova:\n",
        "    slovnik_klicu_a_hodnot.setdefault(len(word), []).append(word)\n",
        "\n",
        "klice = []\n",
        "for klic in slovnik_klicu_a_hodnot.keys():\n",
        "  klice.append(klic)\n",
        "\n",
        "\n",
        "list_hodnot = []\n",
        "for hodnot in slovnik_klicu_a_hodnot.values():\n",
        "  list_hodnot.append(len(hodnot))\n",
        "\n",
        "\n",
        "cisla= []\n",
        "for cislo in list_hodnot:\n",
        "  cisla.append(cislo)\n",
        "  \n",
        "print(\"-\"*30)\n",
        "print(\"Len: \", \"\\tOccurancy\", \"\\tNum.\")\n",
        "for klic,cislo in enumerate(cisla,1):\n",
        "  print( \"\\t\", cislo*\"*\", \"\\t\",\"\\t\" ,cislo)\n",
        "\n",
        "\n",
        "\n"
      ],
      "execution_count": 341,
      "outputs": [
        {
          "output_type": "stream",
          "name": "stdout",
          "text": [
            "------------------------------\n",
            "Len:  \tOccurancy \tNum.\n",
            "\t ***** \t \t 5\n",
            "\t ************ \t \t 12\n",
            "\t ********* \t \t 9\n",
            "\t *********** \t \t 11\n",
            "\t *** \t \t 3\n",
            "\t * \t \t 1\n",
            "\t * \t \t 1\n",
            "\t * \t \t 1\n",
            "\t **** \t \t 4\n",
            "\t * \t \t 1\n",
            "\t ****** \t \t 6\n"
          ]
        }
      ]
    },
    {
      "cell_type": "code",
      "metadata": {
        "colab": {
          "base_uri": "https://localhost:8080/"
        },
        "id": "gO15nhF17Kam",
        "outputId": "0aa7a071-7214-468b-dd6a-07e8e96c646b"
      },
      "source": [
        "\n",
        "d={}\n",
        "for word in cista_slova:\n",
        "    d.setdefault(len(word), []).append(word)\n",
        "print(d)\n",
        "result=[d[i] for i in d] \n",
        "\n"
      ],
      "execution_count": 334,
      "outputs": [
        {
          "output_type": "stream",
          "name": "stdout",
          "text": [
            "{8: ['Situated', 'Kemmerer', 'ruggedly', 'Railroad', 'traverse'], 5: ['about', 'miles', 'Butte', 'rises', 'above', 'Creek', 'above', 'level', 'butte', 'north', 'Union', 'which'], 2: ['10', 'of', 'is', 'to', 'an', 'of', 'is', 'of', 'US'], 4: ['west', 'that', 'some', '1000', 'feet', 'Twin', 'more', 'than', '7500', 'feet', 'just'], 6: ['Fossil', 'Valley', 'valley'], 1: ['a'], 10: ['impressive'], 11: ['topographic'], 7: ['feature', 'sharply', 'located', 'Pacific'], 9: ['elevation'], 3: ['sea', 'The', '30N', 'and', 'the', 'the']}\n",
            "dict_keys([8, 5, 2, 4, 6, 1, 10, 11, 7, 9, 3]) dict_values([['Situated', 'Kemmerer', 'ruggedly', 'Railroad', 'traverse'], ['about', 'miles', 'Butte', 'rises', 'above', 'Creek', 'above', 'level', 'butte', 'north', 'Union', 'which'], ['10', 'of', 'is', 'to', 'an', 'of', 'is', 'of', 'US'], ['west', 'that', 'some', '1000', 'feet', 'Twin', 'more', 'than', '7500', 'feet', 'just'], ['Fossil', 'Valley', 'valley'], ['a'], ['impressive'], ['topographic'], ['feature', 'sharply', 'located', 'Pacific'], ['elevation'], ['sea', 'The', '30N', 'and', 'the', 'the']])\n"
          ]
        }
      ]
    },
    {
      "cell_type": "code",
      "metadata": {
        "id": "CI9qP7Uu7P-7"
      },
      "source": [
        ""
      ],
      "execution_count": null,
      "outputs": []
    }
  ]
}